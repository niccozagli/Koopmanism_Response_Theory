{
 "cells": [
  {
   "cell_type": "code",
   "execution_count": 3,
   "metadata": {},
   "outputs": [
    {
     "data": {
      "text/plain": [
       "return_obs (generic function with 1 method)"
      ]
     },
     "metadata": {},
     "output_type": "display_data"
    }
   ],
   "source": [
    "#### LIBRARIES AND FUNCTIONS\n",
    "using Plots\n",
    "using JLD2\n",
    "using Statistics\n",
    "using Random\n",
    "using LinearAlgebra\n",
    "using StatsBase\n",
    "using Integrals\n",
    "using GenericSchur\n",
    "using Interpolations\n",
    "using FiniteDifferences\n",
    "using LaTeXStrings\n",
    "\n",
    "function Expanding_Map_Integrate(x0,p)\n",
    "    a,b,c,σ,tr,M = p\n",
    "    x = zeros(M+tr)\n",
    "    xOld = x0;\n",
    "    for i in 1:M+tr\n",
    "        x[i] = mod( a*xOld - b*sin(6*xOld) + c*cos(3*xOld) + σ*randn() , 2*π)\n",
    "        xOld = x[i]\n",
    "    end\n",
    "    return x[1+tr:end]\n",
    "end\n",
    "\n",
    "function return_obs(x)\n",
    "    return [ cos(x) , cos(2*x), cos(3*x) , cos(4*x), cos(5*x),\n",
    "             sin(x), sin(2*x), sin(3*x),sin(4*x),sin(5*x), \n",
    "             1.0 ./(2+sin(2*x)) , cos(atan(3*sin(x)))/sin(atan(3)), atan(20*sin(2*x))/ atan(20), (1/2+1/2*sin(2*x)) ./ (2+cos(10*x)), (x-pi) .^2\n",
    "    ] \n",
    "end"
   ]
  },
  {
   "cell_type": "code",
   "execution_count": 2,
   "metadata": {},
   "outputs": [],
   "source": [
    "# Parameters of the map\n",
    "a = 3; b = 0.4 ; c = 0.08; σ = 0\n",
    "tr = 500 # Transient to remove\n",
    "M = 10^7 # Length of trajectory\n",
    "x0 = 2*pi*rand() # Initial condition\n",
    "p = (a,b,c,σ,tr,M) \n",
    "x = Expanding_Map_Integrate(x0,p);\n",
    "avg = mean( stack( return_obs.(x) ,dims=1) ,dims=1);"
   ]
  },
  {
   "cell_type": "code",
   "execution_count": 3,
   "metadata": {},
   "outputs": [],
   "source": [
    "n_Traj = 5*10^6;\n",
    "tr = 0; M = 50\n",
    "p = (a,b,c,σ,tr,M) \n",
    "amplitudes = [0.02,0.03,0.04,0.05,0.06,0.07];"
   ]
  },
  {
   "cell_type": "code",
   "execution_count": 4,
   "metadata": {},
   "outputs": [],
   "source": [
    "Data = Array{Matrix{Float64}}(undef, length(amplitudes))\n",
    "\n",
    "for (ii,ε) in enumerate(amplitudes)\n",
    "    ICs_plus = mod.(x .+ ε,2*π);\n",
    "    G_plus = zeros(M,size( return_obs(x[1]) )[1])\n",
    "\n",
    "    for i in 1:n_Traj\n",
    "        y = Expanding_Map_Integrate(ICs_plus[i],p);\n",
    "        g = stack( return_obs.(y) ,dims=1)\n",
    "        G_plus = G_plus .+ g ./n_Traj\n",
    "    end\n",
    "    ICs_plus = nothing; GC.gc()\n",
    "\n",
    "    ICs_minus = mod.(x .- ε,2*π);\n",
    "    G_minus = zeros(M,size( return_obs(x[1]) )[1])\n",
    "    for i in 1:n_Traj\n",
    "        y = Expanding_Map_Integrate(ICs_minus[i],p);\n",
    "        g = stack( return_obs.(y) ,dims=1)\n",
    "        G_minus = G_minus .+ g ./n_Traj\n",
    "    end\n",
    "    ICs_minus = nothing; GC.gc()\n",
    "    G = ( G_plus .- G_minus ) ./(2*ε);\n",
    "\n",
    "    Data[ii] = G\n",
    "end"
   ]
  },
  {
   "cell_type": "code",
   "execution_count": 5,
   "metadata": {},
   "outputs": [],
   "source": [
    "jldsave(\"Data_GreenFunctions.jld2\"; Data,p,n_Traj,amplitudes,return_obs)"
   ]
  }
 ],
 "metadata": {
  "kernelspec": {
   "display_name": "Julia 1.10.0",
   "language": "julia",
   "name": "julia-1.10"
  },
  "language_info": {
   "file_extension": ".jl",
   "mimetype": "application/julia",
   "name": "julia",
   "version": "1.10.0"
  }
 },
 "nbformat": 4,
 "nbformat_minor": 2
}
