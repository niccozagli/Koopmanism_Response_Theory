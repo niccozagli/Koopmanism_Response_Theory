{
 "cells": [
  {
   "cell_type": "code",
   "execution_count": null,
   "metadata": {},
   "outputs": [],
   "source": [
    "#### LIBRARIES AND FUNCTIONS\n",
    "using Plots\n",
    "using JLD2\n",
    "using Statistics\n",
    "using Random\n",
    "using StatsBase\n",
    "using Integrals\n",
    "using GenericSchur\n",
    "using LaTeXStrings\n",
    "using Pkg\n",
    "using Combinatorics\n",
    "using LinearAlgebra\n",
    "using Base.Threads\n",
    "\n",
    "function ArnoldMap_Integrate(xin,p)\n",
    "    ν,σ,M,tr = p\n",
    "    x0 , y0 = xin\n",
    "    X = zeros(M+tr,2) # EDITED\n",
    "    A = ones(2,2); A[1,1] = 2\n",
    "    α = angle(ν) ; μ = abs(ν) \n",
    "    Xold = xin;\n",
    "    for it in 1:M+tr\n",
    "        sum = Xold[1] + Xold[2]\n",
    "        num = μ*sin(2*π*sum - α)\n",
    "        den = 1 - μ*cos(2*π*sum - α)\n",
    "\n",
    "        map = mod.( A*Xold .+ 1/ π *atan(num/den) .+ σ*randn(2) , 1 )\n",
    "\n",
    "        X[it,:] = map # EDITED\n",
    "        Xold = map\n",
    "    end\n",
    "    return X[1+tr:end,:] # EDITED\n",
    "end\n",
    "\n",
    "function return_obs(X)\n",
    "    x , y = X\n",
    "    observables = zeros(5)\n",
    "    observables[1] = sin(2*π*(x+y)) \n",
    "    observables[2] = cos(2*π*(x+y))\n",
    "    observables[3] = sin(2*π*x)*cos(2*π*y)\n",
    "    observables[4] = cos(2*π*x)*cos(2*π*y) \n",
    "    observables[5] = cos(2*π*x)*sin(6*π*y) \n",
    "    return observables\n",
    "end"
   ]
  },
  {
   "cell_type": "code",
   "execution_count": null,
   "metadata": {},
   "outputs": [],
   "source": [
    "M = 10^7; tr = 500 ; \n",
    "ν = 0.88*exp(1im*(0.7419+pi))\n",
    "σ = 0.01\n",
    "\n",
    "p = (ν,σ,Int(M),tr)\n",
    "x0 = [0.3,0.2];"
   ]
  },
  {
   "cell_type": "code",
   "execution_count": null,
   "metadata": {},
   "outputs": [],
   "source": [
    "# Unperturbed System\n",
    "X = ArnoldMap_Integrate(x0,p);\n",
    "\n",
    "avg = zeros(length(return_obs(X[1,:])),1)\n",
    "for i in 1:size(X)[1]\n",
    "    avg += return_obs(X[i,:])/size(X)[1]\n",
    "end"
   ]
  },
  {
   "cell_type": "code",
   "execution_count": null,
   "metadata": {},
   "outputs": [],
   "source": [
    "# Response Experiments\n",
    "n_Traj = 6*10^6;\n",
    "tr = 0; M = 50\n",
    "p = (ν,σ,Int(M),tr)\n",
    "amplitudes = [0.003,0.004,0.005,0.006]#,0.04]#,0.05][0.003,0.004,0.006]"
   ]
  },
  {
   "cell_type": "code",
   "execution_count": null,
   "metadata": {},
   "outputs": [],
   "source": [
    "Data = Array{Matrix{Float64}}(undef, length(amplitudes))\n",
    "g = zeros(M,size( return_obs(X[1,:]) )[1])\n",
    "\n",
    "sum =  X[:,1] .+ X[:,2]\n",
    "α = angle(ν) ; μ = abs(ν) \n",
    "pert_profile =  X[:,1]#sin.(2*π .* sum .- α) ./ ( 1 .+ μ^2  .- 2 .* μ .* cos.(2*π.*sum .- α) ) # sin.(2*π*X[:,2])#sin.(2*π.*(X[:,1] .- 2*X[:,2] ))#1/π .* sin.(2*π .* sum .- α) ./ ( 1 .+ μ^2  .- 2 .* μ .* cos.(2*π.*sum .- α) )\n",
    "# log.(2 .+ cos.(2*π.*X[:,1] ))#\n",
    "for (ii,ε) in enumerate(amplitudes)\n",
    "    # ICs_plus = mod.( X.+ ε,1);\n",
    "    # ICs_plus = copy(X)#mod.( X.+ ε,1);\n",
    "    # ICs_plus[:,1] .= mod.( X[:,1] .+ ε *cos.(2*π*X[:,1]) , 1 )\n",
    "    \n",
    "    ICs_plus = mod.(X .+ ε*pert_profile,1)\n",
    "    ICs_plus[:,2] .= X[:,2]\n",
    "    G_plus = zeros(M,size( return_obs(X[1,:]) )[1])\n",
    "\n",
    "    for i in 1:n_Traj\n",
    "        Y = ArnoldMap_Integrate(ICs_plus[i,:],p);\n",
    "        for i in 1:size(Y)[1]\n",
    "            g[i,:] = return_obs(Y[i,:])\n",
    "        end\n",
    "        G_plus = G_plus .+ g ./n_Traj\n",
    "    end\n",
    "    ICs_plus = nothing; GC.gc()\n",
    "\n",
    "    ICs_minus = mod.(X .- ε*pert_profile,1)\n",
    "    ICs_minus[:,2] .= X[:,2]\n",
    "    #ICs_minus = mod.( X.- ε,1);\n",
    "    # ICs_minus = copy(X)\n",
    "    # ICs_minus[:,1] .= mod.( ICs_minus[:,1] .- ε *cos.(2*π*X[:,1]) , 1 )\n",
    "    G_minus = zeros(M,size( return_obs(X[1,:]) )[1])\n",
    "    for i in 1:n_Traj\n",
    "        Y = ArnoldMap_Integrate(ICs_minus[i,:],p);\n",
    "        for i in 1:size(Y)[1]\n",
    "            g[i,:] = return_obs(Y[i,:])\n",
    "        end\n",
    "        G_minus = G_minus .+ g ./n_Traj\n",
    "    end\n",
    "    ICs_minus = nothing; GC.gc()\n",
    "    G = ( G_plus .- G_minus ) ./(2*ε);\n",
    "\n",
    "    Data[ii] = G\n",
    "end"
   ]
  },
  {
   "cell_type": "code",
   "execution_count": null,
   "metadata": {},
   "outputs": [],
   "source": [
    "index = 5\n",
    "plot(Data[1][:,index])\n",
    "plot!(Data[2][:,index])\n",
    "plot!(Data[3][:,index])\n",
    "plot!(Data[3][:,index])"
   ]
  },
  {
   "cell_type": "code",
   "execution_count": null,
   "metadata": {},
   "outputs": [],
   "source": [
    "jldsave(\"Data_GreenFunctions_01_X.jld2\"; Data,p,n_Traj,amplitudes,return_obs)"
   ]
  }
 ],
 "metadata": {
  "kernelspec": {
   "display_name": "Julia 1.10.5",
   "language": "julia",
   "name": "julia-1.10"
  },
  "language_info": {
   "file_extension": ".jl",
   "mimetype": "application/julia",
   "name": "julia",
   "version": "1.10.5"
  }
 },
 "nbformat": 4,
 "nbformat_minor": 2
}
